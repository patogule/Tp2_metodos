{
  "cells": [
    {
      "cell_type": "code",
      "execution_count": 1,
      "metadata": {
        "id": "Yc_QGcPrvhgj"
      },
      "outputs": [],
      "source": [
        "import numpy as np\n",
        "import pandas as pd\n",
        "import matplotlib.pyplot as plt\n"
      ]
    },
    {
      "cell_type": "markdown",
      "metadata": {},
      "source": [
        "## Exploramos los datos\n",
        " Exploramos los datos para reconocer su estructura y tamaños necesarios de las x, w1,b1,w2,b2 e y"
      ]
    },
    {
      "cell_type": "code",
      "execution_count": 96,
      "metadata": {},
      "outputs": [
        {
          "name": "stdout",
          "output_type": "stream",
          "text": [
            "[[2012.9166667, 2012.9166667, 2013.5833333, 2013.5, 2012.8333333, 2012.6666667, 2012.6666667, 2013.4166667, 2013.5, 2013.4166667], [32.0, 19.5, 13.3, 13.3, 5.0, 7.1, 34.5, 20.3, 31.7, 17.9], [84.87882, 306.5947, 561.9845, 561.9845, 390.5684, 2175.03, 623.4731, 287.6025, 5512.038, 1783.18], [10.0, 9.0, 5.0, 5.0, 5.0, 3.0, 7.0, 6.0, 1.0, 3.0], [24.98298, 24.98034, 24.98746, 24.98746, 24.97937, 24.96305, 24.97933, 24.98042, 24.95095, 24.96731], [121.54024, 121.53951, 121.54391, 121.54391, 121.54245, 121.51254, 121.53642, 121.54228, 121.48458, 121.51486]]\n",
            "[[0.27272729256195555, 0.9996688704673731, 1.0, 1.0, 0.9996688567112925, 0.9995860709263692, 0.9995860709263692, 0.9999586071075384, 1.0, 1.0], [0.9152542372881356, 0.5533686601059804, 0.37549031632232094, 0.37874565242060276, 0.13551871445319721, 0.20266510725642645, 1.0, 0.6388345527724546, 1.0, 1.0], [0.0, 0.05562274788381358, 0.10195584645824286, 0.10195584645824286, 0.07085734895151304, 0.39459633623715956, 0.11311117593891772, 0.05217716205875214, 1.0, 1.0], [1.0, 1.0, 0.6666666666666666, 0.6842105263157895, 0.6842105263157895, 0.368421052631579, 1.0, 1.0, 0.23999999999999996, 1.0], [0.8772938920844318, 0.9997046888865001, 1.0, 1.0, 0.9999564371859775, 0.9992793465908849, 0.9999547776502054, 1.0, 0.9993208804873058, 1.0], [0.9381425922804745, 0.9999635174992493, 1.0, 1.0, 1.0, 0.9997534081281186, 0.9999514112855002, 1.0, 0.999748873574841, 1.0]]\n"
          ]
        }
      ],
      "source": [
        "df_test= pd.read_excel('Real estate valuation data set.xlsx',  nrows=10)\n",
        "\n",
        "x = df_test.iloc[:, 1:7].values.transpose().tolist()\n",
        "\n",
        "\n",
        "for line in x:\n",
        "    for i in range(len(line)):\n",
        "        line[i] = (line[i] -min(line))/(max(line)-min(line))\n",
        "\n",
        "\n",
        "x = np.array(x)\n",
        "y = df_test.iloc[:, 7].values.tolist()\n",
        "\n",
        "\n",
        "print(x)\n",
        "print(y)\n"
      ]
    },
    {
      "cell_type": "markdown",
      "metadata": {},
      "source": [
        "### Declaramos las funciones auxiliares"
      ]
    },
    {
      "cell_type": "code",
      "execution_count": 98,
      "metadata": {
        "id": "Zz81ZoDxvhgm"
      },
      "outputs": [],
      "source": [
        "def forward(W1, W2, b1, b2, x):\n",
        "   \n",
        "    f1 = np.dot(W1, x) + b1\n",
        "    sigma = 1 / (1 + np.exp(-f1))\n",
        "    f = np.dot(W2, sigma) + b2\n",
        "\n",
        "    return f\n",
        "\n",
        "def funcion_objetivo(x, y, W1, W2, b1, b2):\n",
        "\n",
        "\n",
        "    loss = 0.5 * (np.power(forward(W1, W2, b1, b2, x) - y, 2)) \n",
        "    return loss"
      ]
    },
    {
      "cell_type": "code",
      "execution_count": 119,
      "metadata": {
        "id": "P-R0FjEzvhgn"
      },
      "outputs": [],
      "source": [
        "#Calculo del gradiente numerico\n",
        "\n",
        "def funcion_objetivo(x, y, W1, W2, b1, b2):\n",
        "    loss = 0.5 * (np.power(forward(W1, W2, b1, b2, x) - y, 2)) \n",
        "    return loss\n",
        "\n",
        "def numerical_gradient(W1, W2, b1, b2, x, y, epsilon):\n",
        "    #Tenemos que calcular el gradiente de la función objetivo en un punto, que equivale a computar las siguientes derivadas parciales respecto a cada elemento de las matrices W y los vectores b.\n",
        "\n",
        "    der_W1 = (funcion_objetivo(x, y, W1 + epsilon, W2, b1, b2) - funcion_objetivo(x, y, W1 - epsilon, W2, b1, b2)) / (2 * epsilon)\n",
        "    der_W2 = (funcion_objetivo(x, y, W1, W2 + epsilon, b1, b2) - funcion_objetivo(x, y, W1, W2 - epsilon, b1, b2)) / (2 * epsilon)\n",
        "    der_b1 = (funcion_objetivo(x, y, W1, W2, b1 + epsilon, b2) - funcion_objetivo(x, y, W1, W2, b1 - epsilon, b2)) / (2 * epsilon)\n",
        "    der_b2 = (funcion_objetivo(x, y, W1, W2, b1, b2 + epsilon) - funcion_objetivo(x, y, W1, W2, b1, b2 - epsilon)) / (2 * epsilon)  \n",
        "\n",
        "\n",
        "    return der_W1, der_W2, der_b1, der_b2"
      ]
    },
    {
      "cell_type": "code",
      "execution_count": 132,
      "metadata": {
        "id": "rJRtIYxMvhgo"
      },
      "outputs": [],
      "source": [
        "#funcion fit y loop de entrenamiento\n",
        "#Implementar el método fit() que realiza el ciclo de entrenamiento de la red. En cada iteración, se calcula el valor del gradiente promedio para todas las muestras del dataset y se actualizan los parámetros de la función utilizando esta dirección.\n",
        "\n",
        "def fit(x, y, learning_rate=0.001, epochs=1000, eps=1e-6):\n",
        "    #Inicializacion de pesos\n",
        "    W1 = np.random.random((5,6))\n",
        "    b1 = np.random.random((5,1))\n",
        "    W2 = np.random.random((1,5))\n",
        "    b2 = np.random.random((1,1))\n",
        "\n",
        "    loss_accum = []\n",
        "    for iteracion in range(epochs):\n",
        "        der_W1, der_W2, der_b1, der_b2 = numerical_gradient(W1, W2, b1, b2, x, y, eps)\n",
        "        #Una vez que calculamos todos estos gradientes, podemos usarlos para actualizar la red. Hacemos esto restando una pequeña cantidad de cada derivada parcial al parámetro correspondiente. Esta cantidad es controlada por un parámetro llamado learning rate o tasa de aprendizaje.\n",
        "        #Es decir, para nuestro espacio de parámetros θ, calculamos:\n",
        "        W1 = W1 - learning_rate *np.mean(der_W1)\n",
        "        W2 = W2 - learning_rate * np.mean(der_W2)\n",
        "        b1 = b1 - learning_rate *np.mean( der_b1)\n",
        "        b2 = b2 - learning_rate *np.mean( der_b2)\n",
        "        \n",
        "        loss_accum.append(np.mean(funcion_objetivo(x, y, W1, W2, b1, b2)))\n",
        "\n",
        "    return loss_accum, W1, W2, b1, b2"
      ]
    },
    {
      "cell_type": "code",
      "execution_count": 168,
      "metadata": {
        "id": "IS4sKd_Hvhgo"
      },
      "outputs": [],
      "source": [
        "def predict(x,W1, W2, b1, b2):\n",
        "        y = forward(W1, W2, b1, b2, x)\n",
        "        return y"
      ]
    },
    {
      "cell_type": "code",
      "execution_count": 173,
      "metadata": {},
      "outputs": [
        {
          "name": "stdout",
          "output_type": "stream",
          "text": [
            "[93.20836609512683, 93.20755148814942, 93.20673843803029, 93.20592694027043, 93.20511699038809, 93.20430858391879, 93.2035017164153, 93.20269638344742, 93.20189258060198, 93.2010903034828]\n",
            "\n",
            "maximo:  650.4880078817973\n",
            "minimo:  93.2010903034828\n",
            "\n"
          ]
        },
        {
          "data": {
            "text/plain": [
              "[<matplotlib.lines.Line2D at 0x223f98d7880>]"
            ]
          },
          "execution_count": 173,
          "metadata": {},
          "output_type": "execute_result"
        },
        {
          "data": {
            "image/png": "[encoded data removed]",
            "text/plain": [
              "<Figure size 432x288 with 1 Axes>"
            ]
          },
          "metadata": {
            "needs_background": "light"
          },
          "output_type": "display_data"
        }
      ],
      "source": [
        "df_test= pd.read_excel('Real estate valuation data set.xlsx',  nrows=10000)\n",
        "\n",
        "x = df_test.iloc[:, 1:7].values.transpose().tolist()\n",
        "mean = lambda x: sum(x) / len(x)\n",
        "std = lambda x: (sum([(i - mean(x))**2 for i in x]) / len(x))**0.5\n",
        "\n",
        "for line in x:\n",
        "    for i in range(len(line)):\n",
        "\n",
        "        line[i] = (line[i] -mean(line))/(std(line))\n",
        "\n",
        "\n",
        "\n",
        "x = np.array(x)\n",
        "\n",
        "y = df_test.iloc[:, 7].values.tolist()\n",
        "\n",
        "\n",
        "loss, W1, W2, b1, b2 = fit(x, y, learning_rate=0.001, epochs=1000,eps=0.001)\n",
        "print(loss[-10:])\n",
        "print()\n",
        "print('maximo: ', max(loss))\n",
        "print('minimo: ', min(loss))\n",
        "print()\n",
        "\n",
        "plt.xlabel('Epochs')\n",
        "plt.ylabel('Loss')\n",
        "plt.title('Loss vs Epochs')\n",
        "plt.plot(range(len(loss)),loss)"
      ]
    },
    {
      "cell_type": "markdown",
      "metadata": {},
      "source": [
        "Como podemos ver los datos convergen rapidamente, pero llegamos a un mínimo local probablemente ya que no podemos disminuir el loss value mas alla del 93. Esto se puede deber a que el modelo no es lo suficientemente complejo para representar la función que genera los datos."
      ]
    },
    {
      "cell_type": "markdown",
      "metadata": {},
      "source": [
        "## Pruebo predecir con los datos de entrenamiento los datos de prueba"
      ]
    },
    {
      "cell_type": "markdown",
      "metadata": {},
      "source": [
        "### Entrenamos la red neuronal"
      ]
    },
    {
      "cell_type": "code",
      "execution_count": 166,
      "metadata": {},
      "outputs": [],
      "source": [
        "df_train= pd.read_excel('Real estate valuation data set.xlsx',  nrows=315)\n",
        "#declaro y normalizo las x\n",
        "x = df_train.iloc[:, 1:7].values.transpose().tolist()\n",
        "mean = lambda x: sum(x) / len(x)\n",
        "std = lambda x: (sum([(i - mean(x))**2 for i in x]) / len(x))**0.5\n",
        "for line in x:\n",
        "    for i in range(len(line)):\n",
        "        line[i] = (line[i] -mean(line))/(std(line))\n",
        "x = np.array(x)\n",
        "#declaro las y\n",
        "y = df_train.iloc[:, 7].values.tolist()\n",
        "loss, W1, W2, b1, b2 = fit(x, y, learning_rate=0.001, epochs=2000,eps=0.001)"
      ]
    },
    {
      "cell_type": "markdown",
      "metadata": {},
      "source": [
        "### Evaluamos"
      ]
    },
    {
      "cell_type": "code",
      "execution_count": 170,
      "metadata": {},
      "outputs": [
        {
          "name": "stdout",
          "output_type": "stream",
          "text": [
            "0.5051009498235535\n"
          ]
        }
      ],
      "source": [
        "df_prueba = pd.read_excel('Real estate valuation data set.xlsx',  nrows=414, skiprows=315)\n",
        "\n",
        "#declaro y normalizo las x\n",
        "x = df_prueba.iloc[:, 1:7].values.transpose().tolist()\n",
        "mean = lambda x: sum(x) / len(x)\n",
        "std = lambda x: (sum([(i - mean(x))**2 for i in x]) / len(x))**0.5\n",
        "for line in x:\n",
        "    for i in range(len(line)):\n",
        "        line[i] = (line[i] -mean(line))/(std(line))\n",
        "x = np.array(x)\n",
        "#declaro las y\n",
        "y =np.array( df_prueba.iloc[:, 7].values.tolist())\n",
        "\n",
        "pred = predict(x,W1, W2, b1, b2)\n",
        "print(abs(np.mean(y-pred)))"
      ]
    },
    {
      "cell_type": "markdown",
      "metadata": {},
      "source": [
        "como vemos la diferencia promedio es muy baja, por lo que podemos decir que la red neuronal aprendió a predecir los datos de prueba"
      ]
    },
    {
      "cell_type": "markdown",
      "metadata": {},
      "source": [
        "## Buscamos los hipérparametros óptimos para el modelo de regresión\n",
        "Realizamos un muestreo de parametros y comparamos sus loss values para encontrar los mejores parametros para el modelo de regresión. Guardamos los resultados en un archivo csv."
      ]
    },
    {
      "cell_type": "markdown",
      "metadata": {},
      "source": [
        "### Funcion que itera los hiperparametros"
      ]
    },
    {
      "cell_type": "code",
      "execution_count": 137,
      "metadata": {},
      "outputs": [],
      "source": [
        "def train_model(eps_range, learning_rate_range, epochs_range,x, y):\n",
        "    training_list = []\n",
        "    #itera todas las combinaciones de eps, learning rate y epochs\n",
        "    for eps in range(eps_range[0], eps_range[1]):\n",
        "        for learning_rate in range(learning_rate_range[0], learning_rate_range[1]):\n",
        "            for epochs in range(epochs_range[0], epochs_range[1]):\n",
        "                loss, W1, W2, b1, b2 = fit(x, y, learning_rate=1*(10**-learning_rate), epochs=10**epochs,eps=10**-eps)\n",
        "                training_list.append([loss[-1], epochs, learning_rate, eps])\n",
        "    return training_list\n"
      ]
    },
    {
      "cell_type": "markdown",
      "metadata": {},
      "source": [
        "### Ejecuto la funcion con distintos rangos de hiperparametros"
      ]
    },
    {
      "cell_type": "code",
      "execution_count": 157,
      "metadata": {},
      "outputs": [],
      "source": [
        "df_test= pd.read_excel('Real estate valuation data set.xlsx',  nrows=10000)\n",
        "\n",
        "#declaro y normalizo las x\n",
        "x = df_test.iloc[:, 1:7].values.transpose().tolist()\n",
        "mean = lambda x: sum(x) / len(x)\n",
        "std = lambda x: (sum([(i - mean(x))**2 for i in x]) / len(x))**0.5\n",
        "for line in x:\n",
        "    for i in range(len(line)):\n",
        "\n",
        "        line[i] = (line[i] -mean(line))/(std(line))\n",
        "x = np.array(x)\n",
        "\n",
        "#declaro las y\n",
        "y = df_test.iloc[:, 7].values.tolist()\n",
        "\n",
        "\n",
        "training_list = train_model([2, 6], [2, 6], [2, 5], x, y)\n",
        "losses = [x[0] for x in training_list]\n",
        "\n",
        "pd.DataFrame(training_list).to_csv('training.csv',sep=';', index=False, header=['loss', 'epochs', 'learning_rate', 'eps'])"
      ]
    },
    {
      "cell_type": "code",
      "execution_count": 162,
      "metadata": {},
      "outputs": [
        {
          "name": "stdout",
          "output_type": "stream",
          "text": [
            "         loss  epochs  learning_rate      eps\n",
            "17  78.238050   10000          0.001  0.00100\n",
            "5   91.587170   10000          0.001  0.01000\n",
            "14  92.351984   10000          0.010  0.00100\n",
            "38  92.354608   10000          0.010  0.00001\n",
            "26  92.354637   10000          0.010  0.00010\n",
            "41  92.441461   10000          0.001  0.00001\n",
            "25  92.442266    1000          0.010  0.00010\n",
            "1   92.442285    1000          0.010  0.01000\n",
            "29  92.442779   10000          0.001  0.00010\n",
            "37  92.442789    1000          0.010  0.00001\n"
          ]
        }
      ],
      "source": [
        "csv = pd.read_csv('training.csv', sep=';')\n",
        "csv = csv.sort_values(by=['loss'])\n",
        "print(csv[:10])"
      ]
    },
    {
      "cell_type": "markdown",
      "metadata": {},
      "source": [
        "### Conclusiones\n",
        "En los hiperparametros podemos observar que la gran mayoria de las buenas aproximacion tienen un learning rate de 0.001 y un batch size de 10000. Por lo que podemos concluir que estos son los mejores hiperparametros para el modelo de regresion. el epsilon para learning_rates mas grandes es mas chico, probablemente porque entre ellos si regulan para llegar a un ratio optimo. Respecto al batch, si bien para mayor cantidad de datos la estimacion mejora, sobre todo para learning rates muy bajos, no parece ser muy significativa la diferencia a partir de 1000 datos en adelante. \n",
        "Por lo que podriamos concluir que el learning rate es el hiperparametro mas importante para el modelo de regresion, o que por lo menos regula a los otros dos."
      ]
    },
    {
      "cell_type": "markdown",
      "metadata": {},
      "source": [
        "Entonces, elegimos como hiperparametros para el modelo de regresion: learning rate = 0.001 y epochs = 10000 y epsilon = 0.001"
      ]
    }
  ],
  "metadata": {
    "colab": {
      "provenance": []
    },
    "kernelspec": {
      "display_name": "Python 3",
      "language": "python",
      "name": "python3"
    },
    "language_info": {
      "codemirror_mode": {
        "name": "ipython",
        "version": 3
      },
      "file_extension": ".py",
      "mimetype": "text/x-python",
      "name": "python",
      "nbconvert_exporter": "python",
      "pygments_lexer": "ipython3",
      "version": "3.9.13"
    },
    "orig_nbformat": 4
  },
  "nbformat": 4,
  "nbformat_minor": 0
}
