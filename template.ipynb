{
  "cells": [
    {
      "cell_type": "code",
      "execution_count": 1,
      "metadata": {
        "id": "Yc_QGcPrvhgj"
      },
      "outputs": [],
      "source": [
        "import numpy as np\n",
        "import pandas as pd\n",
        "import matplotlib.pyplot as plt\n"
      ]
    },
    {
      "cell_type": "code",
      "execution_count": 96,
      "metadata": {},
      "outputs": [
        {
          "name": "stdout",
          "output_type": "stream",
          "text": [
            "[[2012.9166667, 2012.9166667, 2013.5833333, 2013.5, 2012.8333333, 2012.6666667, 2012.6666667, 2013.4166667, 2013.5, 2013.4166667], [32.0, 19.5, 13.3, 13.3, 5.0, 7.1, 34.5, 20.3, 31.7, 17.9], [84.87882, 306.5947, 561.9845, 561.9845, 390.5684, 2175.03, 623.4731, 287.6025, 5512.038, 1783.18], [10.0, 9.0, 5.0, 5.0, 5.0, 3.0, 7.0, 6.0, 1.0, 3.0], [24.98298, 24.98034, 24.98746, 24.98746, 24.97937, 24.96305, 24.97933, 24.98042, 24.95095, 24.96731], [121.54024, 121.53951, 121.54391, 121.54391, 121.54245, 121.51254, 121.53642, 121.54228, 121.48458, 121.51486]]\n",
            "[[0.27272729256195555, 0.9996688704673731, 1.0, 1.0, 0.9996688567112925, 0.9995860709263692, 0.9995860709263692, 0.9999586071075384, 1.0, 1.0], [0.9152542372881356, 0.5533686601059804, 0.37549031632232094, 0.37874565242060276, 0.13551871445319721, 0.20266510725642645, 1.0, 0.6388345527724546, 1.0, 1.0], [0.0, 0.05562274788381358, 0.10195584645824286, 0.10195584645824286, 0.07085734895151304, 0.39459633623715956, 0.11311117593891772, 0.05217716205875214, 1.0, 1.0], [1.0, 1.0, 0.6666666666666666, 0.6842105263157895, 0.6842105263157895, 0.368421052631579, 1.0, 1.0, 0.23999999999999996, 1.0], [0.8772938920844318, 0.9997046888865001, 1.0, 1.0, 0.9999564371859775, 0.9992793465908849, 0.9999547776502054, 1.0, 0.9993208804873058, 1.0], [0.9381425922804745, 0.9999635174992493, 1.0, 1.0, 1.0, 0.9997534081281186, 0.9999514112855002, 1.0, 0.999748873574841, 1.0]]\n"
          ]
        }
      ],
      "source": [
        "df_test= pd.read_excel('Real estate valuation data set.xlsx',  nrows=10)\n",
        "\n",
        "x = df_test.iloc[:, 1:7].values.transpose().tolist()\n",
        "\n",
        "\n",
        "for line in x:\n",
        "    for i in range(len(line)):\n",
        "        line[i] = (line[i] -min(line))/(max(line)-min(line))\n",
        "\n",
        "\n",
        "x = np.array(x)\n",
        "y = df_test.iloc[:, 7].values.tolist()\n"
      ]
    },
    {
      "cell_type": "code",
      "execution_count": 98,
      "metadata": {
        "id": "Zz81ZoDxvhgm"
      },
      "outputs": [],
      "source": [
        "def forward(W1, W2, b1, b2, x):\n",
        "   \n",
        "    f1 = np.dot(W1, x) + b1\n",
        "    sigma = 1 / (1 + np.exp(-f1))\n",
        "    f = np.dot(W2, sigma) + b2\n",
        "\n",
        "    return f\n",
        "\n",
        "def funcion_objetivo(x, y, W1, W2, b1, b2):\n",
        "\n",
        "\n",
        "    loss = 0.5 * (np.power(forward(W1, W2, b1, b2, x) - y, 2)) \n",
        "    return loss"
      ]
    },
    {
      "cell_type": "code",
      "execution_count": 48,
      "metadata": {
        "id": "wpp8zX0evhgn"
      },
      "outputs": [],
      "source": [
        "#Inicializacion de pesos\n",
        "W1 = np.random.random((5,6))\n",
        "b1 = np.random.random((5,1))\n",
        "\n",
        "W2 = np.random.random((1,5))\n",
        "b2 = np.random.random((1,1))\n",
        "\n"
      ]
    },
    {
      "cell_type": "code",
      "execution_count": 119,
      "metadata": {
        "id": "P-R0FjEzvhgn"
      },
      "outputs": [],
      "source": [
        "#Calculo del gradiente numerico\n",
        "\n",
        "def funcion_objetivo(x, y, W1, W2, b1, b2):\n",
        "    loss = 0.5 * (np.power(forward(W1, W2, b1, b2, x) - y, 2)) \n",
        "    return loss\n",
        "\n",
        "def numerical_gradient(W1, W2, b1, b2, x, y, epsilon):\n",
        "    #Tenemos que calcular el gradiente de la función objetivo en un punto, que equivale a computar las siguientes derivadas parciales respecto a cada elemento de las matrices W y los vectores b.\n",
        "\n",
        "    der_W1 = (funcion_objetivo(x, y, W1 + epsilon, W2, b1, b2) - funcion_objetivo(x, y, W1 - epsilon, W2, b1, b2)) / (2 * epsilon)\n",
        "    der_W2 = (funcion_objetivo(x, y, W1, W2 + epsilon, b1, b2) - funcion_objetivo(x, y, W1, W2 - epsilon, b1, b2)) / (2 * epsilon)\n",
        "    der_b1 = (funcion_objetivo(x, y, W1, W2, b1 + epsilon, b2) - funcion_objetivo(x, y, W1, W2, b1 - epsilon, b2)) / (2 * epsilon)\n",
        "    der_b2 = (funcion_objetivo(x, y, W1, W2, b1, b2 + epsilon) - funcion_objetivo(x, y, W1, W2, b1, b2 - epsilon)) / (2 * epsilon)  \n",
        "\n",
        "\n",
        "    return der_W1, der_W2, der_b1, der_b2"
      ]
    },
    {
      "cell_type": "code",
      "execution_count": 132,
      "metadata": {
        "id": "rJRtIYxMvhgo"
      },
      "outputs": [],
      "source": [
        "#funcion fit y loop de entrenamiento\n",
        "#Implementar el método fit() que realiza el ciclo de entrenamiento de la red. En cada iteración, se calcula el valor del gradiente promedio para todas las muestras del dataset y se actualizan los parámetros de la función utilizando esta dirección.\n",
        "\n",
        "def fit(x, y, learning_rate=0.001, epochs=1000, eps=1e-6):\n",
        "    #Inicializacion de pesos\n",
        "    W1 = np.random.random((5,6))\n",
        "    b1 = np.random.random((5,1))\n",
        "    W2 = np.random.random((1,5))\n",
        "    b2 = np.random.random((1,1))\n",
        "\n",
        "    loss_accum = []\n",
        "    for iteracion in range(epochs):\n",
        "        der_W1, der_W2, der_b1, der_b2 = numerical_gradient(W1, W2, b1, b2, x, y, eps)\n",
        "        #Una vez que calculamos todos estos gradientes, podemos usarlos para actualizar la red. Hacemos esto restando una pequeña cantidad de cada derivada parcial al parámetro correspondiente. Esta cantidad es controlada por un parámetro llamado learning rate o tasa de aprendizaje.\n",
        "        #Es decir, para nuestro espacio de parámetros θ, calculamos:\n",
        "        W1 = W1 - learning_rate *np.mean(der_W1)\n",
        "        W2 = W2 - learning_rate * np.mean(der_W2)\n",
        "        b1 = b1 - learning_rate *np.mean( der_b1)\n",
        "        b2 = b2 - learning_rate *np.mean( der_b2)\n",
        "        \n",
        "        loss_accum.append(np.mean(funcion_objetivo(x, y, W1, W2, b1, b2)))\n",
        "\n",
        "    return loss_accum, W1, W2, b1, b2"
      ]
    },
    {
      "cell_type": "code",
      "execution_count": 101,
      "metadata": {
        "id": "IS4sKd_Hvhgo"
      },
      "outputs": [],
      "source": [
        "def predict(x,W1, W2, b1, b2):\n",
        "        y = forward(W1, W2, b1, b2, x)\n",
        "        return y"
      ]
    },
    {
      "cell_type": "code",
      "execution_count": 150,
      "metadata": {},
      "outputs": [
        {
          "name": "stdout",
          "output_type": "stream",
          "text": [
            "[102.4120823365175, 102.38703374418692, 102.36209956491454, 102.33727923337212, 102.31257218704802, 102.28797786623332, 102.26349571400799, 102.239125176227, 102.21486570150651, 102.19071674121022]\n",
            "maximo:  691.9358254302227\n",
            "minimo:  102.19071674121022\n",
            "\n",
            "[[1.57149269 0.82813345 1.70141088 1.51428928 0.79388176 1.18832615]\n",
            " [1.40791505 1.29730287 0.88113851 1.16042601 0.79154783 1.18596841]\n",
            " [0.90412764 1.41556458 1.71428603 0.9055849  1.48442176 1.65929067]\n",
            " [0.82288079 0.94766738 1.17452479 1.19121685 1.19786584 1.55885616]\n",
            " [1.14638419 0.80963204 1.5109326  1.40205887 1.28094002 0.8240855 ]]\n",
            "\n",
            "[[6.21445057 7.03645849 6.1638504  7.0113802  6.86370043]]\n",
            "\n",
            "[[1.81972051]\n",
            " [1.92716853]\n",
            " [1.15267535]\n",
            " [1.93285723]\n",
            " [1.92901154]]\n",
            "\n",
            "[[2.28665994]]\n"
          ]
        },
        {
          "data": {
            "text/plain": [
              "[<matplotlib.lines.Line2D at 0x223f64ef790>]"
            ]
          },
          "execution_count": 150,
          "metadata": {},
          "output_type": "execute_result"
        },
        {
          "data": {
            "image/png": "[encoded data removed]",
            "text/plain": [
              "<Figure size 432x288 with 1 Axes>"
            ]
          },
          "metadata": {
            "needs_background": "light"
          },
          "output_type": "display_data"
        }
      ],
      "source": [
        "df_test= pd.read_excel('Real estate valuation data set.xlsx',  nrows=10000)\n",
        "\n",
        "x = df_test.iloc[:, 1:7].values.transpose().tolist()\n",
        "mean = lambda x: sum(x) / len(x)\n",
        "std = lambda x: (sum([(i - mean(x))**2 for i in x]) / len(x))**0.5\n",
        "\n",
        "for line in x:\n",
        "    for i in range(len(line)):\n",
        "\n",
        "        line[i] = (line[i] -mean(line))/(std(line))\n",
        "\n",
        "\n",
        "\n",
        "x = np.array(x)\n",
        "\n",
        "y = df_test.iloc[:, 7].values.tolist()\n",
        "\n",
        "\n",
        "loss, W1, W2, b1, b2 = fit(x, y, learning_rate=0.0001, epochs=1000,eps=0.01)\n",
        "print(loss[-10:])\n",
        "print()\n",
        "print('maximo: ', max(loss))\n",
        "print('minimo: ', min(loss))\n",
        "print()\n",
        "\n",
        "plt.xlabel('Epochs')\n",
        "plt.ylabel('Loss')\n",
        "plt.title('Loss vs Epochs')\n",
        "plt.plot(loss)"
      ]
    },
    {
      "cell_type": "markdown",
      "metadata": {},
      "source": [
        "## Pruebo predecir con los datos de entrenamiento los datos de prueba"
      ]
    },
    {
      "cell_type": "code",
      "execution_count": null,
      "metadata": {},
      "outputs": [],
      "source": [
        "df_train= pd.read_excel('Real estate valuation data set.xlsx',  nrows=315,index_col=0)\n",
        "\n",
        "x = df_train.iloc[:, 1:7].values.transpose().tolist()\n",
        "mean = lambda x: sum(x) / len(x)\n",
        "std = lambda x: (sum([(i - mean(x))**2 for i in x]) / len(x))**0.5\n",
        "for line in x:\n",
        "    for i in range(len(line)):\n",
        "        line[i] = (line[i] -mean(line))/(std(line))\n",
        "x = np.array(x)\n",
        "y = df_train.iloc[:, 7].values.tolist()\n",
        "loss, W1, W2, b1, b2 = fit(x, y, learning_rate=0.0001, epochs=1000,eps=0.01)"
      ]
    },
    {
      "cell_type": "code",
      "execution_count": null,
      "metadata": {},
      "outputs": [],
      "source": [
        "df_prueba = pd.read_excel('Real estate valuation data set.xlsx',  nrows=414, skiprows=315)\n",
        "x = df_prueba.iloc[:, 1:7].values.transpose().tolist()\n",
        "mean = lambda x: sum(x) / len(x)\n",
        "std = lambda x: (sum([(i - mean(x))**2 for i in x]) / len(x))**0.5\n",
        "for line in x:\n",
        "    for i in range(len(line)):\n",
        "        line[i] = (line[i] -mean(line))/(std(line))\n",
        "x = np.array(x)\n",
        "y =np.array( df_prueba.iloc[:, 7].values.tolist())\n",
        "\n",
        "pred = predict(x,W1, W2, b1, b2)\n",
        "print(np.mean(y-pred))"
      ]
    },
    {
      "cell_type": "markdown",
      "metadata": {},
      "source": [
        "## Buscamos los hipérparametros óptimos para el modelo de regresión\n",
        "Realizamos un muestreo de parametros y comparamos sus loss values para encontrar los mejores parametros para el modelo de regresión. Guardamos los resultados en un archivo csv."
      ]
    },
    {
      "cell_type": "markdown",
      "metadata": {},
      "source": [
        "### Funcion que itera los hiperparametros"
      ]
    },
    {
      "cell_type": "code",
      "execution_count": 137,
      "metadata": {},
      "outputs": [],
      "source": [
        "def train_model(eps_range, learning_rate_range, epochs_range,x, y):\n",
        "    training_list = []\n",
        "    for eps in range(eps_range[0], eps_range[1]):\n",
        "        for learning_rate in range(learning_rate_range[0], learning_rate_range[1]):\n",
        "            for epochs in range(epochs_range[0], epochs_range[1]):\n",
        "                loss, W1, W2, b1, b2 = fit(x, y, learning_rate=1*(10**-learning_rate), epochs=10**epochs,eps=10**-eps)\n",
        "                training_list.append([loss[-1], epochs, learning_rate, eps])\n",
        "    return training_list\n",
        "\n",
        "\n",
        "\n",
        "\n",
        "\n",
        "\n",
        "\n"
      ]
    },
    {
      "cell_type": "markdown",
      "metadata": {},
      "source": [
        "### Ejecuto la funcion con distintos rangos de hiperparametros"
      ]
    },
    {
      "cell_type": "code",
      "execution_count": 156,
      "metadata": {},
      "outputs": [
        {
          "ename": "PermissionError",
          "evalue": "[Errno 13] Permission denied: 'training.csv'",
          "output_type": "error",
          "traceback": [
            "\u001b[1;31m---------------------------------------------------------------------------\u001b[0m",
            "\u001b[1;31mPermissionError\u001b[0m                           Traceback (most recent call last)",
            "\u001b[1;32mc:\\Users\\fedep\\OneDrive\\Documentos\\Visualizacion\\Tp2_metodos\\template.ipynb Cell 16\u001b[0m in \u001b[0;36m<cell line: 20>\u001b[1;34m()\u001b[0m\n\u001b[0;32m     <a href='vscode-notebook-cell:/c%3A/Users/fedep/OneDrive/Documentos/Visualizacion/Tp2_metodos/template.ipynb#Y101sZmlsZQ%3D%3D?line=16'>17</a>\u001b[0m training_list \u001b[39m=\u001b[39m train_model([\u001b[39m2\u001b[39m, \u001b[39m6\u001b[39m], [\u001b[39m2\u001b[39m, \u001b[39m6\u001b[39m], [\u001b[39m2\u001b[39m, \u001b[39m5\u001b[39m], x, y)\n\u001b[0;32m     <a href='vscode-notebook-cell:/c%3A/Users/fedep/OneDrive/Documentos/Visualizacion/Tp2_metodos/template.ipynb#Y101sZmlsZQ%3D%3D?line=17'>18</a>\u001b[0m losses \u001b[39m=\u001b[39m [x[\u001b[39m0\u001b[39m] \u001b[39mfor\u001b[39;00m x \u001b[39min\u001b[39;00m training_list]\n\u001b[1;32m---> <a href='vscode-notebook-cell:/c%3A/Users/fedep/OneDrive/Documentos/Visualizacion/Tp2_metodos/template.ipynb#Y101sZmlsZQ%3D%3D?line=19'>20</a>\u001b[0m pd\u001b[39m.\u001b[39;49mDataFrame(training_list)\u001b[39m.\u001b[39;49mto_csv(\u001b[39m'\u001b[39;49m\u001b[39mtraining.csv\u001b[39;49m\u001b[39m'\u001b[39;49m,sep\u001b[39m=\u001b[39;49m\u001b[39m'\u001b[39;49m\u001b[39m;\u001b[39;49m\u001b[39m'\u001b[39;49m, index\u001b[39m=\u001b[39;49m\u001b[39mFalse\u001b[39;49;00m, header\u001b[39m=\u001b[39;49m[\u001b[39m'\u001b[39;49m\u001b[39mloss\u001b[39;49m\u001b[39m'\u001b[39;49m, \u001b[39m'\u001b[39;49m\u001b[39mepochs\u001b[39;49m\u001b[39m'\u001b[39;49m, \u001b[39m'\u001b[39;49m\u001b[39mlearning_rate\u001b[39;49m\u001b[39m'\u001b[39;49m, \u001b[39m'\u001b[39;49m\u001b[39meps\u001b[39;49m\u001b[39m'\u001b[39;49m])\n",
            "File \u001b[1;32m~\\AppData\\Local\\Packages\\PythonSoftwareFoundation.Python.3.9_qbz5n2kfra8p0\\LocalCache\\local-packages\\Python39\\site-packages\\pandas\\core\\generic.py:3551\u001b[0m, in \u001b[0;36mNDFrame.to_csv\u001b[1;34m(self, path_or_buf, sep, na_rep, float_format, columns, header, index, index_label, mode, encoding, compression, quoting, quotechar, line_terminator, chunksize, date_format, doublequote, escapechar, decimal, errors, storage_options)\u001b[0m\n\u001b[0;32m   3540\u001b[0m df \u001b[39m=\u001b[39m \u001b[39mself\u001b[39m \u001b[39mif\u001b[39;00m \u001b[39misinstance\u001b[39m(\u001b[39mself\u001b[39m, ABCDataFrame) \u001b[39melse\u001b[39;00m \u001b[39mself\u001b[39m\u001b[39m.\u001b[39mto_frame()\n\u001b[0;32m   3542\u001b[0m formatter \u001b[39m=\u001b[39m DataFrameFormatter(\n\u001b[0;32m   3543\u001b[0m     frame\u001b[39m=\u001b[39mdf,\n\u001b[0;32m   3544\u001b[0m     header\u001b[39m=\u001b[39mheader,\n\u001b[1;32m   (...)\u001b[0m\n\u001b[0;32m   3548\u001b[0m     decimal\u001b[39m=\u001b[39mdecimal,\n\u001b[0;32m   3549\u001b[0m )\n\u001b[1;32m-> 3551\u001b[0m \u001b[39mreturn\u001b[39;00m DataFrameRenderer(formatter)\u001b[39m.\u001b[39;49mto_csv(\n\u001b[0;32m   3552\u001b[0m     path_or_buf,\n\u001b[0;32m   3553\u001b[0m     line_terminator\u001b[39m=\u001b[39;49mline_terminator,\n\u001b[0;32m   3554\u001b[0m     sep\u001b[39m=\u001b[39;49msep,\n\u001b[0;32m   3555\u001b[0m     encoding\u001b[39m=\u001b[39;49mencoding,\n\u001b[0;32m   3556\u001b[0m     errors\u001b[39m=\u001b[39;49merrors,\n\u001b[0;32m   3557\u001b[0m     compression\u001b[39m=\u001b[39;49mcompression,\n\u001b[0;32m   3558\u001b[0m     quoting\u001b[39m=\u001b[39;49mquoting,\n\u001b[0;32m   3559\u001b[0m     columns\u001b[39m=\u001b[39;49mcolumns,\n\u001b[0;32m   3560\u001b[0m     index_label\u001b[39m=\u001b[39;49mindex_label,\n\u001b[0;32m   3561\u001b[0m     mode\u001b[39m=\u001b[39;49mmode,\n\u001b[0;32m   3562\u001b[0m     chunksize\u001b[39m=\u001b[39;49mchunksize,\n\u001b[0;32m   3563\u001b[0m     quotechar\u001b[39m=\u001b[39;49mquotechar,\n\u001b[0;32m   3564\u001b[0m     date_format\u001b[39m=\u001b[39;49mdate_format,\n\u001b[0;32m   3565\u001b[0m     doublequote\u001b[39m=\u001b[39;49mdoublequote,\n\u001b[0;32m   3566\u001b[0m     escapechar\u001b[39m=\u001b[39;49mescapechar,\n\u001b[0;32m   3567\u001b[0m     storage_options\u001b[39m=\u001b[39;49mstorage_options,\n\u001b[0;32m   3568\u001b[0m )\n",
            "File \u001b[1;32m~\\AppData\\Local\\Packages\\PythonSoftwareFoundation.Python.3.9_qbz5n2kfra8p0\\LocalCache\\local-packages\\Python39\\site-packages\\pandas\\io\\formats\\format.py:1180\u001b[0m, in \u001b[0;36mDataFrameRenderer.to_csv\u001b[1;34m(self, path_or_buf, encoding, sep, columns, index_label, mode, compression, quoting, quotechar, line_terminator, chunksize, date_format, doublequote, escapechar, errors, storage_options)\u001b[0m\n\u001b[0;32m   1159\u001b[0m     created_buffer \u001b[39m=\u001b[39m \u001b[39mFalse\u001b[39;00m\n\u001b[0;32m   1161\u001b[0m csv_formatter \u001b[39m=\u001b[39m CSVFormatter(\n\u001b[0;32m   1162\u001b[0m     path_or_buf\u001b[39m=\u001b[39mpath_or_buf,\n\u001b[0;32m   1163\u001b[0m     line_terminator\u001b[39m=\u001b[39mline_terminator,\n\u001b[1;32m   (...)\u001b[0m\n\u001b[0;32m   1178\u001b[0m     formatter\u001b[39m=\u001b[39m\u001b[39mself\u001b[39m\u001b[39m.\u001b[39mfmt,\n\u001b[0;32m   1179\u001b[0m )\n\u001b[1;32m-> 1180\u001b[0m csv_formatter\u001b[39m.\u001b[39;49msave()\n\u001b[0;32m   1182\u001b[0m \u001b[39mif\u001b[39;00m created_buffer:\n\u001b[0;32m   1183\u001b[0m     \u001b[39massert\u001b[39;00m \u001b[39misinstance\u001b[39m(path_or_buf, StringIO)\n",
            "File \u001b[1;32m~\\AppData\\Local\\Packages\\PythonSoftwareFoundation.Python.3.9_qbz5n2kfra8p0\\LocalCache\\local-packages\\Python39\\site-packages\\pandas\\io\\formats\\csvs.py:241\u001b[0m, in \u001b[0;36mCSVFormatter.save\u001b[1;34m(self)\u001b[0m\n\u001b[0;32m    237\u001b[0m \u001b[39m\"\"\"\u001b[39;00m\n\u001b[0;32m    238\u001b[0m \u001b[39mCreate the writer & save.\u001b[39;00m\n\u001b[0;32m    239\u001b[0m \u001b[39m\"\"\"\u001b[39;00m\n\u001b[0;32m    240\u001b[0m \u001b[39m# apply compression and byte/text conversion\u001b[39;00m\n\u001b[1;32m--> 241\u001b[0m \u001b[39mwith\u001b[39;00m get_handle(\n\u001b[0;32m    242\u001b[0m     \u001b[39mself\u001b[39;49m\u001b[39m.\u001b[39;49mfilepath_or_buffer,\n\u001b[0;32m    243\u001b[0m     \u001b[39mself\u001b[39;49m\u001b[39m.\u001b[39;49mmode,\n\u001b[0;32m    244\u001b[0m     encoding\u001b[39m=\u001b[39;49m\u001b[39mself\u001b[39;49m\u001b[39m.\u001b[39;49mencoding,\n\u001b[0;32m    245\u001b[0m     errors\u001b[39m=\u001b[39;49m\u001b[39mself\u001b[39;49m\u001b[39m.\u001b[39;49merrors,\n\u001b[0;32m    246\u001b[0m     compression\u001b[39m=\u001b[39;49m\u001b[39mself\u001b[39;49m\u001b[39m.\u001b[39;49mcompression,\n\u001b[0;32m    247\u001b[0m     storage_options\u001b[39m=\u001b[39;49m\u001b[39mself\u001b[39;49m\u001b[39m.\u001b[39;49mstorage_options,\n\u001b[0;32m    248\u001b[0m ) \u001b[39mas\u001b[39;00m handles:\n\u001b[0;32m    249\u001b[0m \n\u001b[0;32m    250\u001b[0m     \u001b[39m# Note: self.encoding is irrelevant here\u001b[39;00m\n\u001b[0;32m    251\u001b[0m     \u001b[39mself\u001b[39m\u001b[39m.\u001b[39mwriter \u001b[39m=\u001b[39m csvlib\u001b[39m.\u001b[39mwriter(\n\u001b[0;32m    252\u001b[0m         handles\u001b[39m.\u001b[39mhandle,\n\u001b[0;32m    253\u001b[0m         lineterminator\u001b[39m=\u001b[39m\u001b[39mself\u001b[39m\u001b[39m.\u001b[39mline_terminator,\n\u001b[1;32m   (...)\u001b[0m\n\u001b[0;32m    258\u001b[0m         quotechar\u001b[39m=\u001b[39m\u001b[39mself\u001b[39m\u001b[39m.\u001b[39mquotechar,\n\u001b[0;32m    259\u001b[0m     )\n\u001b[0;32m    261\u001b[0m     \u001b[39mself\u001b[39m\u001b[39m.\u001b[39m_save()\n",
            "File \u001b[1;32m~\\AppData\\Local\\Packages\\PythonSoftwareFoundation.Python.3.9_qbz5n2kfra8p0\\LocalCache\\local-packages\\Python39\\site-packages\\pandas\\io\\common.py:786\u001b[0m, in \u001b[0;36mget_handle\u001b[1;34m(path_or_buf, mode, encoding, compression, memory_map, is_text, errors, storage_options)\u001b[0m\n\u001b[0;32m    781\u001b[0m \u001b[39melif\u001b[39;00m \u001b[39misinstance\u001b[39m(handle, \u001b[39mstr\u001b[39m):\n\u001b[0;32m    782\u001b[0m     \u001b[39m# Check whether the filename is to be opened in binary mode.\u001b[39;00m\n\u001b[0;32m    783\u001b[0m     \u001b[39m# Binary mode does not support 'encoding' and 'newline'.\u001b[39;00m\n\u001b[0;32m    784\u001b[0m     \u001b[39mif\u001b[39;00m ioargs\u001b[39m.\u001b[39mencoding \u001b[39mand\u001b[39;00m \u001b[39m\"\u001b[39m\u001b[39mb\u001b[39m\u001b[39m\"\u001b[39m \u001b[39mnot\u001b[39;00m \u001b[39min\u001b[39;00m ioargs\u001b[39m.\u001b[39mmode:\n\u001b[0;32m    785\u001b[0m         \u001b[39m# Encoding\u001b[39;00m\n\u001b[1;32m--> 786\u001b[0m         handle \u001b[39m=\u001b[39m \u001b[39mopen\u001b[39;49m(\n\u001b[0;32m    787\u001b[0m             handle,\n\u001b[0;32m    788\u001b[0m             ioargs\u001b[39m.\u001b[39;49mmode,\n\u001b[0;32m    789\u001b[0m             encoding\u001b[39m=\u001b[39;49mioargs\u001b[39m.\u001b[39;49mencoding,\n\u001b[0;32m    790\u001b[0m             errors\u001b[39m=\u001b[39;49merrors,\n\u001b[0;32m    791\u001b[0m             newline\u001b[39m=\u001b[39;49m\u001b[39m\"\u001b[39;49m\u001b[39m\"\u001b[39;49m,\n\u001b[0;32m    792\u001b[0m         )\n\u001b[0;32m    793\u001b[0m     \u001b[39melse\u001b[39;00m:\n\u001b[0;32m    794\u001b[0m         \u001b[39m# Binary mode\u001b[39;00m\n\u001b[0;32m    795\u001b[0m         handle \u001b[39m=\u001b[39m \u001b[39mopen\u001b[39m(handle, ioargs\u001b[39m.\u001b[39mmode)\n",
            "\u001b[1;31mPermissionError\u001b[0m: [Errno 13] Permission denied: 'training.csv'"
          ]
        }
      ],
      "source": [
        "df_test= pd.read_excel('Real estate valuation data set.xlsx',  nrows=10000)\n",
        "\n",
        "\n",
        "x = df_test.iloc[:, 1:7].values.transpose().tolist()\n",
        "mean = lambda x: sum(x) / len(x)\n",
        "std = lambda x: (sum([(i - mean(x))**2 for i in x]) / len(x))**0.5\n",
        "\n",
        "for line in x:\n",
        "    for i in range(len(line)):\n",
        "\n",
        "        line[i] = (line[i] -mean(line))/(std(line))\n",
        "\n",
        "x = np.array(x)\n",
        "y = df_test.iloc[:, 7].values.tolist()\n",
        "\n",
        "\n",
        "training_list = train_model([2, 6], [2, 6], [2, 5], x, y)\n",
        "losses = [x[0] for x in training_list]\n",
        "\n",
        "pd.DataFrame(training_list).to_csv('training.csv',sep=';', index=False, header=['loss', 'epochs', 'learning_rate', 'eps'])"
      ]
    }
  ],
  "metadata": {
    "colab": {
      "provenance": []
    },
    "kernelspec": {
      "display_name": "Python 3",
      "language": "python",
      "name": "python3"
    },
    "language_info": {
      "codemirror_mode": {
        "name": "ipython",
        "version": 3
      },
      "file_extension": ".py",
      "mimetype": "text/x-python",
      "name": "python",
      "nbconvert_exporter": "python",
      "pygments_lexer": "ipython3",
      "version": "3.9.13"
    },
    "orig_nbformat": 4
  },
  "nbformat": 4,
  "nbformat_minor": 0
}
